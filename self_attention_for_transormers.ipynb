{
  "nbformat": 4,
  "nbformat_minor": 0,
  "metadata": {
    "colab": {
      "provenance": [],
      "authorship_tag": "ABX9TyMQLEAw1PI/Zg9KIAyhPQ5z",
      "include_colab_link": true
    },
    "kernelspec": {
      "name": "python3",
      "display_name": "Python 3"
    },
    "language_info": {
      "name": "python"
    }
  },
  "cells": [
    {
      "cell_type": "markdown",
      "metadata": {
        "id": "view-in-github",
        "colab_type": "text"
      },
      "source": [
        "<a href=\"https://colab.research.google.com/github/pavanreddy565/Transformers-Learning/blob/main/self_attention_for_transormers.ipynb\" target=\"_parent\"><img src=\"https://colab.research.google.com/assets/colab-badge.svg\" alt=\"Open In Colab\"/></a>"
      ]
    },
    {
      "cell_type": "code",
      "execution_count": null,
      "metadata": {
        "id": "yeI-ncbUjb-c"
      },
      "outputs": [],
      "source": [
        "import numpy as np\n",
        "import math\n",
        "\n",
        "L,d_k,d_v=4,8,8\n",
        "q=np.random.randn(L,d_k)\n",
        "k=np.random.randn(L,d_k)\n",
        "v=np.random.randn(L,d_v)\n"
      ]
    },
    {
      "cell_type": "code",
      "source": [
        "q"
      ],
      "metadata": {
        "colab": {
          "base_uri": "https://localhost:8080/"
        },
        "id": "pS11v_xBjvzW",
        "outputId": "1249a1e7-f0b9-45d9-f672-63b6364eb0e2"
      },
      "execution_count": null,
      "outputs": [
        {
          "output_type": "execute_result",
          "data": {
            "text/plain": [
              "array([[-0.55529341,  0.20801185,  0.48577656,  2.1881768 , -0.26374108,\n",
              "         1.59504315,  0.23573583, -0.85210244],\n",
              "       [-0.01811159,  0.04202485,  0.54153039, -1.30765806,  1.78445057,\n",
              "        -2.19189673,  0.209653  ,  0.77968591],\n",
              "       [-2.42105907, -1.23433993,  0.8028707 , -1.33911154,  0.60130762,\n",
              "         1.06235956,  0.48569766,  1.81284844],\n",
              "       [ 1.11411019, -0.20213641, -0.41712935,  0.26820755, -0.28561422,\n",
              "         0.78973933, -0.70866584,  0.20285712]])"
            ]
          },
          "metadata": {},
          "execution_count": 2
        }
      ]
    },
    {
      "cell_type": "markdown",
      "source": [
        "# self attention\n",
        "![image.png](data:image/png;base64,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)"
      ],
      "metadata": {
        "id": "vFtNsN9skY-T"
      }
    },
    {
      "cell_type": "code",
      "source": [
        "np.matmul(q,k.T)"
      ],
      "metadata": {
        "colab": {
          "base_uri": "https://localhost:8080/"
        },
        "id": "GzZCtruKjyK8",
        "outputId": "6674fbca-dce3-4552-ab08-49c99cd8f9a4"
      },
      "execution_count": null,
      "outputs": [
        {
          "output_type": "execute_result",
          "data": {
            "text/plain": [
              "array([[-6.00950821, -7.13867621,  2.62498396,  2.18935233],\n",
              "       [ 6.26219276,  3.61683769, -2.19612009,  1.57789395],\n",
              "       [ 5.2884317 , -0.39010729, -6.10039095,  0.20597594],\n",
              "       [-4.13187064,  0.66585822, -1.3776166 , -1.53007458]])"
            ]
          },
          "metadata": {},
          "execution_count": 3
        }
      ]
    },
    {
      "cell_type": "code",
      "source": [
        "# why do we need sqrt(dk)\n",
        "q.var(),k.var(),np.matmul(q,k.T).var(),(np.matmul(q,k.T)/math.sqrt(d_k)).var()"
      ],
      "metadata": {
        "colab": {
          "base_uri": "https://localhost:8080/"
        },
        "id": "mBvbIIkgkq6e",
        "outputId": "4b94a3d7-059e-464e-9a7a-8329a68cbbb6"
      },
      "execution_count": null,
      "outputs": [
        {
          "output_type": "execute_result",
          "data": {
            "text/plain": [
              "(1.145780586187092, 0.9771006645704723, 15.181571201808381, 1.8976964002260472)"
            ]
          },
          "metadata": {},
          "execution_count": 4
        }
      ]
    },
    {
      "cell_type": "code",
      "source": [
        "scaled= np.matmul(q,k.T)/math.sqrt(d_k)\n",
        "q.var(),k.var(),scaled.var()"
      ],
      "metadata": {
        "colab": {
          "base_uri": "https://localhost:8080/"
        },
        "id": "0X7Tznbik6GB",
        "outputId": "0ec58298-d179-4392-b446-e0a0dd96ca47"
      },
      "execution_count": null,
      "outputs": [
        {
          "output_type": "execute_result",
          "data": {
            "text/plain": [
              "(1.145780586187092, 0.9771006645704723, 1.8976964002260472)"
            ]
          },
          "metadata": {},
          "execution_count": 5
        }
      ]
    },
    {
      "cell_type": "markdown",
      "source": [
        "# masking\n",
        "- This is to ensure words don't get context from the words generated in the future.\n",
        "- Not required in the encoeders but required in decoders\n"
      ],
      "metadata": {
        "id": "jH398z6TlXRE"
      }
    },
    {
      "cell_type": "code",
      "source": [
        "mask = np.tril(np.ones((L,L)))\n",
        "mask"
      ],
      "metadata": {
        "colab": {
          "base_uri": "https://localhost:8080/"
        },
        "id": "JKDn3sk-lPf5",
        "outputId": "873206ba-55ad-4f0c-c60a-d60bf6754812"
      },
      "execution_count": null,
      "outputs": [
        {
          "output_type": "execute_result",
          "data": {
            "text/plain": [
              "array([[1., 0., 0., 0.],\n",
              "       [1., 1., 0., 0.],\n",
              "       [1., 1., 1., 0.],\n",
              "       [1., 1., 1., 1.]])"
            ]
          },
          "metadata": {},
          "execution_count": 7
        }
      ]
    },
    {
      "cell_type": "code",
      "source": [
        "mask[mask==0]=-np.infty\n",
        "mask[mask==1]=0\n",
        "mask"
      ],
      "metadata": {
        "colab": {
          "base_uri": "https://localhost:8080/"
        },
        "id": "9bUNOJNJl78K",
        "outputId": "a3f6ff9b-9d89-4e12-c84c-990bdf32cd08"
      },
      "execution_count": null,
      "outputs": [
        {
          "output_type": "execute_result",
          "data": {
            "text/plain": [
              "array([[  0., -inf, -inf, -inf],\n",
              "       [  0.,   0., -inf, -inf],\n",
              "       [  0.,   0.,   0., -inf],\n",
              "       [  0.,   0.,   0.,   0.]])"
            ]
          },
          "metadata": {},
          "execution_count": 8
        }
      ]
    },
    {
      "cell_type": "code",
      "source": [
        "scaled+mask"
      ],
      "metadata": {
        "colab": {
          "base_uri": "https://localhost:8080/"
        },
        "id": "dcQhqDqzmJH5",
        "outputId": "7fd3ba89-c87d-433c-f538-37747101b6a6"
      },
      "execution_count": null,
      "outputs": [
        {
          "output_type": "execute_result",
          "data": {
            "text/plain": [
              "array([[-2.124682  ,        -inf,        -inf,        -inf],\n",
              "       [ 2.21401948,  1.27874523,        -inf,        -inf],\n",
              "       [ 1.86974296, -0.13792376, -2.1568139 ,        -inf],\n",
              "       [-1.46083688,  0.23541643, -0.48706102, -0.54096305]])"
            ]
          },
          "metadata": {},
          "execution_count": 9
        }
      ]
    },
    {
      "cell_type": "markdown",
      "source": [
        "# Softmax"
      ],
      "metadata": {
        "id": "F2Hk9N4zmTSn"
      }
    },
    {
      "cell_type": "code",
      "source": [
        "def softmax(x):\n",
        "  return (np.exp(x).T/np.sum(np.exp(x),axis=-1)).T"
      ],
      "metadata": {
        "id": "Go3QBDU4mNMx"
      },
      "execution_count": null,
      "outputs": []
    },
    {
      "cell_type": "code",
      "source": [
        "attention = softmax(scaled+mask)\n",
        "attention"
      ],
      "metadata": {
        "colab": {
          "base_uri": "https://localhost:8080/"
        },
        "id": "_NIhN4MPmrUS",
        "outputId": "dbc0600d-e521-4559-b8e5-9dd95df9cffa"
      },
      "execution_count": null,
      "outputs": [
        {
          "output_type": "execute_result",
          "data": {
            "text/plain": [
              "array([[1.        , 0.        , 0.        , 0.        ],\n",
              "       [0.71814409, 0.28185591, 0.        , 0.        ],\n",
              "       [0.8679521 , 0.11656742, 0.01548048, 0.        ],\n",
              "       [0.08612987, 0.46970722, 0.22806533, 0.21609758]])"
            ]
          },
          "metadata": {},
          "execution_count": 11
        }
      ]
    },
    {
      "cell_type": "code",
      "source": [
        "new_v=np.matmul(attention,v)\n",
        "new_v"
      ],
      "metadata": {
        "colab": {
          "base_uri": "https://localhost:8080/"
        },
        "id": "xXAoU0o-muEv",
        "outputId": "f9f58aed-3cca-4042-d69d-3a9203104967"
      },
      "execution_count": null,
      "outputs": [
        {
          "output_type": "execute_result",
          "data": {
            "text/plain": [
              "array([[-0.2830313 , -0.50751193, -0.58361196,  0.58430284,  1.44696471,\n",
              "        -0.493635  ,  0.01201127, -1.2410894 ],\n",
              "       [-0.02119434, -0.28282907, -0.62467679,  0.59771399,  1.06521311,\n",
              "        -0.33444372, -0.19072981, -0.8602532 ],\n",
              "       [-0.19803549, -0.402549  , -0.59329952,  0.57380238,  1.22601373,\n",
              "        -0.41292752, -0.06767489, -1.06738684],\n",
              "       [-0.34626327, -0.17143635, -0.32812386,  0.19857248,  0.14832207,\n",
              "         0.29839613, -0.48482321,  0.38730288]])"
            ]
          },
          "metadata": {},
          "execution_count": 12
        }
      ]
    },
    {
      "cell_type": "code",
      "source": [
        "def softmax(x):\n",
        "   return (np.exp(x).T/np.sum(np.exp(x),axis=-1)).T\n",
        "def scaled_dot_product_attention(q,k,v,mask=None):\n",
        "  scaled=np.matmul(q,k.T)/math.sqrt(d_k)\n",
        "  if mask is not None:\n",
        "    scaled=scaled+mask\n",
        "  attention = softmax(scaled)\n",
        "  out=np.matmul(attention,v)\n",
        "  return out,attention"
      ],
      "metadata": {
        "id": "QSc7DcDbm6Db"
      },
      "execution_count": null,
      "outputs": []
    },
    {
      "cell_type": "markdown",
      "source": [
        "# Mulit Head Attention"
      ],
      "metadata": {
        "id": "3AisFJTNTN84"
      }
    },
    {
      "cell_type": "code",
      "source": [
        "import numpy as np\n",
        "import torch\n",
        "import torch.nn as nn\n",
        "import torch.nn.functional as F"
      ],
      "metadata": {
        "id": "EuHXUJoyTQuz"
      },
      "execution_count": 13,
      "outputs": []
    },
    {
      "cell_type": "code",
      "source": [
        "sequence_length =4\n",
        "batch_size=1\n",
        "input_dim=512\n",
        "d_model= 512\n",
        "x = torch.randn((batch_size,sequence_length,input_dim))"
      ],
      "metadata": {
        "id": "mGUSQ_0RTXHA"
      },
      "execution_count": 14,
      "outputs": []
    },
    {
      "cell_type": "code",
      "source": [
        "x.size()"
      ],
      "metadata": {
        "colab": {
          "base_uri": "https://localhost:8080/"
        },
        "id": "zVGZSqr5ToyR",
        "outputId": "897f7ce6-12c1-4549-b156-23b76dec11a7"
      },
      "execution_count": 15,
      "outputs": [
        {
          "output_type": "execute_result",
          "data": {
            "text/plain": [
              "torch.Size([1, 4, 512])"
            ]
          },
          "metadata": {},
          "execution_count": 15
        }
      ]
    },
    {
      "cell_type": "code",
      "source": [
        "qkv_layer = nn.Linear(input_dim,3*d_model)"
      ],
      "metadata": {
        "id": "r8wBjH2ITqVp"
      },
      "execution_count": 16,
      "outputs": []
    },
    {
      "cell_type": "code",
      "source": [
        "qkv = qkv_layer(x)"
      ],
      "metadata": {
        "id": "MgLkduYZTvcU"
      },
      "execution_count": 17,
      "outputs": []
    },
    {
      "cell_type": "code",
      "source": [
        "import matplotlib.pyplot as plt\n",
        "y_value=torch.histc(qkv,bins=200,min=-3,max=3)\n",
        "x_value=np.arange(-1,1,0.01)*3\n",
        "plt.bar(x_value,y_value,align='center', color=['forestgreen'])\n",
        "plt.title('qkv distribution')"
      ],
      "metadata": {
        "colab": {
          "base_uri": "https://localhost:8080/",
          "height": 470
        },
        "id": "h2OlcQngUCGp",
        "outputId": "7c5b19e0-e744-481e-93b0-585c19a46304"
      },
      "execution_count": 19,
      "outputs": [
        {
          "output_type": "execute_result",
          "data": {
            "text/plain": [
              "Text(0.5, 1.0, 'qkv distribution')"
            ]
          },
          "metadata": {},
          "execution_count": 19
        },
        {
          "output_type": "display_data",
          "data": {
            "text/plain": [
              "<Figure size 640x480 with 1 Axes>"
            ],
            "image/png": "[encoded data removed]"
          },
          "metadata": {}
        }
      ]
    },
    {
      "cell_type": "code",
      "source": [
        "num_heads= 8\n",
        "head_dim=d_model//num_heads\n",
        "qkv=qkv.reshape(batch_size,sequence_length,num_heads,3*head_dim)"
      ],
      "metadata": {
        "id": "AanhJR3IUijc"
      },
      "execution_count": 20,
      "outputs": []
    },
    {
      "cell_type": "code",
      "source": [
        "qkv.shape"
      ],
      "metadata": {
        "colab": {
          "base_uri": "https://localhost:8080/"
        },
        "id": "PNbGIfPxU9qA",
        "outputId": "5b98b38f-36f2-47a3-c5cf-324f2eb25247"
      },
      "execution_count": 21,
      "outputs": [
        {
          "output_type": "execute_result",
          "data": {
            "text/plain": [
              "torch.Size([1, 4, 8, 192])"
            ]
          },
          "metadata": {},
          "execution_count": 21
        }
      ]
    },
    {
      "cell_type": "code",
      "source": [
        "qkv = qkv.permute(0,2,1,3) #[batch_size,num_heads,sequence_length,3*head_dim]\n",
        "qkv.shape"
      ],
      "metadata": {
        "colab": {
          "base_uri": "https://localhost:8080/"
        },
        "id": "VioXnkW6U-yD",
        "outputId": "0872b22a-c90a-4ecf-dd7e-b7c35be2e126"
      },
      "execution_count": 22,
      "outputs": [
        {
          "output_type": "execute_result",
          "data": {
            "text/plain": [
              "torch.Size([1, 8, 4, 192])"
            ]
          },
          "metadata": {},
          "execution_count": 22
        }
      ]
    },
    {
      "cell_type": "code",
      "source": [
        "q, k ,v = qkv.chunk(3,dim=-1)\n",
        "q.shape, k.shape, v.shape"
      ],
      "metadata": {
        "colab": {
          "base_uri": "https://localhost:8080/"
        },
        "id": "LGvNL2D1VSpf",
        "outputId": "3b207e96-1385-42c9-bd5f-21a16f5e4c0e"
      },
      "execution_count": 23,
      "outputs": [
        {
          "output_type": "execute_result",
          "data": {
            "text/plain": [
              "(torch.Size([1, 8, 4, 64]),\n",
              " torch.Size([1, 8, 4, 64]),\n",
              " torch.Size([1, 8, 4, 64]))"
            ]
          },
          "metadata": {},
          "execution_count": 23
        }
      ]
    },
    {
      "cell_type": "code",
      "source": [
        "d_k=q.size()[-1]\n",
        "scaled = torch.matmul(q,k.transpose(-2,-1))/math.sqrt(d_k)\n",
        "scaled.shape"
      ],
      "metadata": {
        "colab": {
          "base_uri": "https://localhost:8080/"
        },
        "id": "D5J6YtEjVdVP",
        "outputId": "a360037f-bdbb-4849-a92f-b67538f49585"
      },
      "execution_count": 24,
      "outputs": [
        {
          "output_type": "execute_result",
          "data": {
            "text/plain": [
              "torch.Size([1, 8, 4, 4])"
            ]
          },
          "metadata": {},
          "execution_count": 24
        }
      ]
    },
    {
      "cell_type": "code",
      "source": [
        "k.T.shape"
      ],
      "metadata": {
        "colab": {
          "base_uri": "https://localhost:8080/"
        },
        "id": "o0rya8MbVtxx",
        "outputId": "22134ee8-0af6-445f-ccf2-e3b8b99644ac"
      },
      "execution_count": 25,
      "outputs": [
        {
          "output_type": "execute_result",
          "data": {
            "text/plain": [
              "torch.Size([64, 4, 8, 1])"
            ]
          },
          "metadata": {},
          "execution_count": 25
        }
      ]
    },
    {
      "cell_type": "code",
      "source": [
        "y = torch.randn(2,3)\n",
        "torch.transpose(y,0,1)"
      ],
      "metadata": {
        "colab": {
          "base_uri": "https://localhost:8080/"
        },
        "id": "imtul6pkVzYF",
        "outputId": "0cbd9e79-aa20-4813-c0ed-98c5b41c3f41"
      },
      "execution_count": 26,
      "outputs": [
        {
          "output_type": "execute_result",
          "data": {
            "text/plain": [
              "tensor([[ 0.2457, -0.1363],\n",
              "        [-0.1727,  0.3949],\n",
              "        [-0.0442, -0.3054]])"
            ]
          },
          "metadata": {},
          "execution_count": 26
        }
      ]
    },
    {
      "cell_type": "code",
      "source": [
        "mask = torch.full(scaled.size(),float('-inf'))\n",
        "mask = torch.triu(mask,diagonal=1)\n",
        "mask[0][1],mask.shape"
      ],
      "metadata": {
        "colab": {
          "base_uri": "https://localhost:8080/"
        },
        "id": "kqCwemvlWFoV",
        "outputId": "d3bef559-f6fb-4d27-f07d-3061211bc3dd"
      },
      "execution_count": 29,
      "outputs": [
        {
          "output_type": "execute_result",
          "data": {
            "text/plain": [
              "(tensor([[0., -inf, -inf, -inf],\n",
              "         [0., 0., -inf, -inf],\n",
              "         [0., 0., 0., -inf],\n",
              "         [0., 0., 0., 0.]]),\n",
              " torch.Size([1, 8, 4, 4]))"
            ]
          },
          "metadata": {},
          "execution_count": 29
        }
      ]
    },
    {
      "cell_type": "code",
      "source": [
        "(scaled+mask)[0][1]"
      ],
      "metadata": {
        "colab": {
          "base_uri": "https://localhost:8080/"
        },
        "id": "-qLZr-PpWZak",
        "outputId": "92ed01ce-2ad6-4ccd-f4be-2dcf141c1786"
      },
      "execution_count": 30,
      "outputs": [
        {
          "output_type": "execute_result",
          "data": {
            "text/plain": [
              "tensor([[-0.1339,    -inf,    -inf,    -inf],\n",
              "        [-0.1647, -0.2715,    -inf,    -inf],\n",
              "        [ 0.2965,  0.0474, -0.0920,    -inf],\n",
              "        [ 0.0973, -0.3625,  0.1329, -0.0759]], grad_fn=<SelectBackward0>)"
            ]
          },
          "metadata": {},
          "execution_count": 30
        }
      ]
    },
    {
      "cell_type": "code",
      "source": [
        "scaled+=mask"
      ],
      "metadata": {
        "id": "8hP-Vb5AWnBe"
      },
      "execution_count": 31,
      "outputs": []
    },
    {
      "cell_type": "code",
      "source": [
        "attention = F.softmax(scaled,dim=-1)"
      ],
      "metadata": {
        "id": "FpYk9wm9WqQH"
      },
      "execution_count": 32,
      "outputs": []
    },
    {
      "cell_type": "code",
      "source": [
        "attention[0][0]"
      ],
      "metadata": {
        "colab": {
          "base_uri": "https://localhost:8080/"
        },
        "id": "akR63F8cWxFd",
        "outputId": "92de261a-3361-4fe8-a2d4-b69fcf9b216d"
      },
      "execution_count": 33,
      "outputs": [
        {
          "output_type": "execute_result",
          "data": {
            "text/plain": [
              "tensor([[1.0000, 0.0000, 0.0000, 0.0000],\n",
              "        [0.4201, 0.5799, 0.0000, 0.0000],\n",
              "        [0.2804, 0.3592, 0.3605, 0.0000],\n",
              "        [0.2756, 0.1383, 0.2408, 0.3453]], grad_fn=<SelectBackward0>)"
            ]
          },
          "metadata": {},
          "execution_count": 33
        }
      ]
    },
    {
      "cell_type": "code",
      "source": [
        "values = torch.matmul(attention,v)\n",
        "values.shape"
      ],
      "metadata": {
        "colab": {
          "base_uri": "https://localhost:8080/"
        },
        "id": "-FyL_HtpWy3f",
        "outputId": "0856ea06-ada5-4115-a2ab-fea4f6a47bd4"
      },
      "execution_count": 34,
      "outputs": [
        {
          "output_type": "execute_result",
          "data": {
            "text/plain": [
              "torch.Size([1, 8, 4, 64])"
            ]
          },
          "metadata": {},
          "execution_count": 34
        }
      ]
    },
    {
      "cell_type": "code",
      "source": [
        "values = values.reshape(batch_size,sequence_length,num_heads*head_dim)\n",
        "values.shape"
      ],
      "metadata": {
        "colab": {
          "base_uri": "https://localhost:8080/"
        },
        "id": "mdIW9PuwW_kt",
        "outputId": "5549245e-3823-407e-937a-6aeb69afe853"
      },
      "execution_count": 35,
      "outputs": [
        {
          "output_type": "execute_result",
          "data": {
            "text/plain": [
              "torch.Size([1, 4, 512])"
            ]
          },
          "metadata": {},
          "execution_count": 35
        }
      ]
    },
    {
      "cell_type": "code",
      "source": [
        "linear_layer = nn.Linear(d_model,d_model)\n",
        "out = linear_layer(values)\n",
        "out.shape"
      ],
      "metadata": {
        "colab": {
          "base_uri": "https://localhost:8080/"
        },
        "id": "h_YEArGDXQz0",
        "outputId": "a26cb989-84e4-4d90-b42a-71dab1a3b2a3"
      },
      "execution_count": 36,
      "outputs": [
        {
          "output_type": "execute_result",
          "data": {
            "text/plain": [
              "torch.Size([1, 4, 512])"
            ]
          },
          "metadata": {},
          "execution_count": 36
        }
      ]
    },
    {
      "cell_type": "code",
      "source": [
        "import torch\n",
        "import torch.nn as nn\n",
        "import math\n",
        "def scaled_dot_product(q,k,v,mask=None):\n",
        "  d_k=q.size()[-1]\n",
        "  scaled = torch.matmul(q,k.transpose(-1,-2))/math.sqrt(d_k)\n",
        "  if mask is not None:\n",
        "    scaled+=mask\n",
        "  attention = F.softmax(scaled,dim=-1)\n",
        "  values = torch.matmul(attention,v)\n",
        "  return values,attention\n",
        "\n",
        "class MultiheadAttention(nn.Module):\n",
        "  def __init__(self,input_dim,d_model,num_heads):\n",
        "    super().__init__()\n",
        "    self.input_dim=input_dim\n",
        "    self.d_model=d_model\n",
        "    self.num_heads=num_heads\n",
        "    self.head_dim=d_model//num_heads\n",
        "    self.qkv_layer = nn.Linear(input_dim, 3*d_model)\n",
        "    self.linear_layer = nn.Linear(d_model,d_model)\n",
        "  def forward(self,x,mask=None):\n",
        "    batch_size,sequence_length,input_dim=x.size()\n",
        "    print(f'x.size(): {x.size()}')\n",
        "    qkv=self.qkv_layer(x)\n",
        "    print(f'qkv.size(): {qkv.size()}')\n",
        "    qkv = qkv.reshape(batch_size,sequence_length,self.num_heads,3*self.head_dim)\n",
        "    print(f'qkv.size(): {qkv.size()}')\n",
        "    qkv=qkv.permute(0,2,1,3)\n",
        "    print(f'qkv.size(): {qkv.size()}')\n",
        "    q,k,v = qkv.chunk(3,dim=-1)\n",
        "    values,attention = scaled_dot_product(q,k,v,mask)\n",
        "    print(f'values.size(): {values.size()}')\n",
        "    values = values.reshape(batch_size,sequence_length,self.num_heads*self.head_dim)\n",
        "    out = self.linear_layer(values)\n",
        "    print(f'out.size():{out.size()}')\n",
        "    return out"
      ],
      "metadata": {
        "id": "fz7-a7r3Xbyg"
      },
      "execution_count": 44,
      "outputs": []
    },
    {
      "cell_type": "code",
      "source": [
        "input_dim =1024\n",
        "d_model = 512\n",
        "num_heads = 8\n",
        "\n",
        "batch_size = 30\n",
        "sequence_length = 5\n",
        "x = torch.randn(batch_size,sequence_length,input_dim)\n",
        "\n",
        "model = MultiheadAttention(input_dim,d_model,num_heads)\n",
        "out = model.forward(x)"
      ],
      "metadata": {
        "colab": {
          "base_uri": "https://localhost:8080/"
        },
        "id": "416q-PjqZ2c6",
        "outputId": "e8af63f4-6cd6-400f-b451-5bb6fbd92d20"
      },
      "execution_count": 45,
      "outputs": [
        {
          "output_type": "stream",
          "name": "stdout",
          "text": [
            "x.size(): torch.Size([30, 5, 1024])\n",
            "qkv.size(): torch.Size([30, 5, 1536])\n",
            "qkv.size(): torch.Size([30, 5, 8, 192])\n",
            "qkv.size(): torch.Size([30, 8, 5, 192])\n",
            "values.size(): torch.Size([30, 8, 5, 64])\n",
            "out.size():torch.Size([30, 5, 512])\n"
          ]
        }
      ]
    },
    {
      "cell_type": "markdown",
      "source": [
        "# Postional Encoding"
      ],
      "metadata": {
        "id": "4UmX2NpTi1dY"
      }
    },
    {
      "cell_type": "code",
      "source": [
        "import torch\n",
        "import torch.nn as nn\n",
        "\n",
        "max_sequence_length = 10\n",
        "d_model=6"
      ],
      "metadata": {
        "id": "FrH-WKd7aURp"
      },
      "execution_count": 46,
      "outputs": []
    },
    {
      "cell_type": "markdown",
      "source": [
        "![image.png](data:image/png;base64,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)"
      ],
      "metadata": {
        "id": "rZA3yVLdjUxm"
      }
    },
    {
      "cell_type": "code",
      "source": [
        "even_i = torch.arange(0,d_model,2).float()\n",
        "even_i"
      ],
      "metadata": {
        "colab": {
          "base_uri": "https://localhost:8080/"
        },
        "id": "dXWpcxwRjR0_",
        "outputId": "7c6c316c-0122-484f-fdbd-6b1db7cabb57"
      },
      "execution_count": 47,
      "outputs": [
        {
          "output_type": "execute_result",
          "data": {
            "text/plain": [
              "tensor([0., 2., 4.])"
            ]
          },
          "metadata": {},
          "execution_count": 47
        }
      ]
    },
    {
      "cell_type": "code",
      "source": [
        "even_denominator = torch.pow(10000,even_i/d_model)\n",
        "even_denominator"
      ],
      "metadata": {
        "colab": {
          "base_uri": "https://localhost:8080/"
        },
        "id": "jix-9Kgzj656",
        "outputId": "48308ef2-9395-4710-f7a5-345e9c18429b"
      },
      "execution_count": 49,
      "outputs": [
        {
          "output_type": "execute_result",
          "data": {
            "text/plain": [
              "tensor([  1.0000,  21.5443, 464.1590])"
            ]
          },
          "metadata": {},
          "execution_count": 49
        }
      ]
    },
    {
      "cell_type": "code",
      "source": [
        "odd_i = torch.arange(1,d_model,2).float()\n",
        "odd_denominator = torch.pow(10000,(odd_i-1)/d_model)\n",
        "odd_denominator"
      ],
      "metadata": {
        "colab": {
          "base_uri": "https://localhost:8080/"
        },
        "id": "5_eUZj-ykJ9n",
        "outputId": "bd16a76d-d7f2-490f-b313-ac822db63e0d"
      },
      "execution_count": 50,
      "outputs": [
        {
          "output_type": "execute_result",
          "data": {
            "text/plain": [
              "tensor([  1.0000,  21.5443, 464.1590])"
            ]
          },
          "metadata": {},
          "execution_count": 50
        }
      ]
    },
    {
      "cell_type": "markdown",
      "source": [
        "`even denominator` and `odd denominator` are the same! So we can just do one of these actions and call the resulting variable `denominator`"
      ],
      "metadata": {
        "id": "jWASQmTTkkek"
      }
    },
    {
      "cell_type": "code",
      "source": [
        "denominator = even_denominator"
      ],
      "metadata": {
        "id": "GITKfh-XkU30"
      },
      "execution_count": 51,
      "outputs": []
    },
    {
      "cell_type": "code",
      "source": [
        "position = torch.arange(max_sequence_length,dtype=torch.float).reshape(max_sequence_length,1)"
      ],
      "metadata": {
        "id": "xf_VUmQdk1dM"
      },
      "execution_count": 52,
      "outputs": []
    },
    {
      "cell_type": "code",
      "source": [
        "position"
      ],
      "metadata": {
        "colab": {
          "base_uri": "https://localhost:8080/"
        },
        "id": "aOCwFmLElAuN",
        "outputId": "de578783-6c06-426f-a8f4-03765eae65b7"
      },
      "execution_count": 53,
      "outputs": [
        {
          "output_type": "execute_result",
          "data": {
            "text/plain": [
              "tensor([[0.],\n",
              "        [1.],\n",
              "        [2.],\n",
              "        [3.],\n",
              "        [4.],\n",
              "        [5.],\n",
              "        [6.],\n",
              "        [7.],\n",
              "        [8.],\n",
              "        [9.]])"
            ]
          },
          "metadata": {},
          "execution_count": 53
        }
      ]
    },
    {
      "cell_type": "code",
      "source": [
        "even_PE = torch.sin(position/denominator)\n",
        "odd_PE = torch.cos(position/denominator)"
      ],
      "metadata": {
        "id": "nCJ6dGUXlEA5"
      },
      "execution_count": 54,
      "outputs": []
    },
    {
      "cell_type": "code",
      "source": [
        "even_PE"
      ],
      "metadata": {
        "colab": {
          "base_uri": "https://localhost:8080/"
        },
        "id": "RfAAI21GlQvW",
        "outputId": "66b694fa-4d4e-4ebf-95d8-7b87717948df"
      },
      "execution_count": 55,
      "outputs": [
        {
          "output_type": "execute_result",
          "data": {
            "text/plain": [
              "tensor([[ 0.0000,  0.0000,  0.0000],\n",
              "        [ 0.8415,  0.0464,  0.0022],\n",
              "        [ 0.9093,  0.0927,  0.0043],\n",
              "        [ 0.1411,  0.1388,  0.0065],\n",
              "        [-0.7568,  0.1846,  0.0086],\n",
              "        [-0.9589,  0.2300,  0.0108],\n",
              "        [-0.2794,  0.2749,  0.0129],\n",
              "        [ 0.6570,  0.3192,  0.0151],\n",
              "        [ 0.9894,  0.3629,  0.0172],\n",
              "        [ 0.4121,  0.4057,  0.0194]])"
            ]
          },
          "metadata": {},
          "execution_count": 55
        }
      ]
    },
    {
      "cell_type": "code",
      "source": [
        "odd_PE"
      ],
      "metadata": {
        "colab": {
          "base_uri": "https://localhost:8080/"
        },
        "id": "GrMLqUd0lS6J",
        "outputId": "6cbbe94a-e0f3-4e36-86dd-1c3215da9ab1"
      },
      "execution_count": 56,
      "outputs": [
        {
          "output_type": "execute_result",
          "data": {
            "text/plain": [
              "tensor([[ 1.0000,  1.0000,  1.0000],\n",
              "        [ 0.5403,  0.9989,  1.0000],\n",
              "        [-0.4161,  0.9957,  1.0000],\n",
              "        [-0.9900,  0.9903,  1.0000],\n",
              "        [-0.6536,  0.9828,  1.0000],\n",
              "        [ 0.2837,  0.9732,  0.9999],\n",
              "        [ 0.9602,  0.9615,  0.9999],\n",
              "        [ 0.7539,  0.9477,  0.9999],\n",
              "        [-0.1455,  0.9318,  0.9999],\n",
              "        [-0.9111,  0.9140,  0.9998]])"
            ]
          },
          "metadata": {},
          "execution_count": 56
        }
      ]
    },
    {
      "cell_type": "code",
      "source": [
        "stacked = torch.stack([even_PE,odd_PE],dim=2)\n",
        "stacked.shape"
      ],
      "metadata": {
        "colab": {
          "base_uri": "https://localhost:8080/"
        },
        "id": "Afj5WfA3lYko",
        "outputId": "2ae7909b-bbdd-488d-ebe6-e44458f7799c"
      },
      "execution_count": 57,
      "outputs": [
        {
          "output_type": "execute_result",
          "data": {
            "text/plain": [
              "torch.Size([10, 3, 2])"
            ]
          },
          "metadata": {},
          "execution_count": 57
        }
      ]
    },
    {
      "cell_type": "code",
      "source": [
        "PE=torch.flatten(stacked,start_dim=1,end_dim=2)\n",
        "PE"
      ],
      "metadata": {
        "colab": {
          "base_uri": "https://localhost:8080/"
        },
        "id": "GemehWp2ll0v",
        "outputId": "54f68c8e-b0ff-4fea-ee68-9fd8ed69c42b"
      },
      "execution_count": 58,
      "outputs": [
        {
          "output_type": "execute_result",
          "data": {
            "text/plain": [
              "tensor([[ 0.0000,  1.0000,  0.0000,  1.0000,  0.0000,  1.0000],\n",
              "        [ 0.8415,  0.5403,  0.0464,  0.9989,  0.0022,  1.0000],\n",
              "        [ 0.9093, -0.4161,  0.0927,  0.9957,  0.0043,  1.0000],\n",
              "        [ 0.1411, -0.9900,  0.1388,  0.9903,  0.0065,  1.0000],\n",
              "        [-0.7568, -0.6536,  0.1846,  0.9828,  0.0086,  1.0000],\n",
              "        [-0.9589,  0.2837,  0.2300,  0.9732,  0.0108,  0.9999],\n",
              "        [-0.2794,  0.9602,  0.2749,  0.9615,  0.0129,  0.9999],\n",
              "        [ 0.6570,  0.7539,  0.3192,  0.9477,  0.0151,  0.9999],\n",
              "        [ 0.9894, -0.1455,  0.3629,  0.9318,  0.0172,  0.9999],\n",
              "        [ 0.4121, -0.9111,  0.4057,  0.9140,  0.0194,  0.9998]])"
            ]
          },
          "metadata": {},
          "execution_count": 58
        }
      ]
    },
    {
      "cell_type": "code",
      "source": [
        "import torch\n",
        "import torch.nn as nn\n",
        "\n",
        "class PositonalEncoding(nn.Module):\n",
        "  def __init__(self,d_model,max_sequence_length):\n",
        "    super().__init__()\n",
        "    self.max_sequence_length=max_sequence_length\n",
        "    self.d_model = d_model\n",
        "\n",
        "  def forward(self):\n",
        "    even_i = torch.arange(0,self.d_model,2).float()\n",
        "    denominator = torch.pow(10000,even_i/self.d_model)\n",
        "    position = torch.arange(self.max_sequence_length).reshape(self.max_sequence_length,1)\n",
        "    even_PE = torch.sin(position/denominator)\n",
        "    odd_PE = torch.cos(position/denominator)\n",
        "    stacked = torch.stack([even_PE,odd_PE],dim=2)\n",
        "    PE = torch.flatten(stacked,start_dim=1,end_dim=2)\n",
        "    return PE\n",
        ""
      ],
      "metadata": {
        "id": "f8IKmLz_lq-c"
      },
      "execution_count": 59,
      "outputs": []
    },
    {
      "cell_type": "code",
      "source": [
        "pe=PositonalEncoding(d_model=6,max_sequence_length=10)\n",
        "pe.forward()"
      ],
      "metadata": {
        "colab": {
          "base_uri": "https://localhost:8080/"
        },
        "id": "7FAeBOqvmg9W",
        "outputId": "2615d2d8-5d55-4fdb-f32f-25acc89ab684"
      },
      "execution_count": 60,
      "outputs": [
        {
          "output_type": "execute_result",
          "data": {
            "text/plain": [
              "tensor([[ 0.0000,  1.0000,  0.0000,  1.0000,  0.0000,  1.0000],\n",
              "        [ 0.8415,  0.5403,  0.0464,  0.9989,  0.0022,  1.0000],\n",
              "        [ 0.9093, -0.4161,  0.0927,  0.9957,  0.0043,  1.0000],\n",
              "        [ 0.1411, -0.9900,  0.1388,  0.9903,  0.0065,  1.0000],\n",
              "        [-0.7568, -0.6536,  0.1846,  0.9828,  0.0086,  1.0000],\n",
              "        [-0.9589,  0.2837,  0.2300,  0.9732,  0.0108,  0.9999],\n",
              "        [-0.2794,  0.9602,  0.2749,  0.9615,  0.0129,  0.9999],\n",
              "        [ 0.6570,  0.7539,  0.3192,  0.9477,  0.0151,  0.9999],\n",
              "        [ 0.9894, -0.1455,  0.3629,  0.9318,  0.0172,  0.9999],\n",
              "        [ 0.4121, -0.9111,  0.4057,  0.9140,  0.0194,  0.9998]])"
            ]
          },
          "metadata": {},
          "execution_count": 60
        }
      ]
    },
    {
      "cell_type": "markdown",
      "source": [
        "#layer normaliation"
      ],
      "metadata": {
        "id": "bjHe9IyF0N9M"
      }
    },
    {
      "cell_type": "code",
      "source": [
        "import torch\n",
        "from torch import nn"
      ],
      "metadata": {
        "id": "dBFSSn1kmjLv"
      },
      "execution_count": 61,
      "outputs": []
    },
    {
      "cell_type": "code",
      "source": [
        "inputs=torch.tensor([[[0.2,0.1,0.3],[0.5,0.1,0.1]]])\n",
        "B, S, E =inputs.size()\n",
        "inputs = inputs.reshape(S,B,E)\n",
        "inputs.size()"
      ],
      "metadata": {
        "colab": {
          "base_uri": "https://localhost:8080/"
        },
        "id": "WRbx3gSf0WG_",
        "outputId": "904ffdc5-e4e6-4ea5-f93d-ff53abe986fe"
      },
      "execution_count": 62,
      "outputs": [
        {
          "output_type": "execute_result",
          "data": {
            "text/plain": [
              "torch.Size([2, 1, 3])"
            ]
          },
          "metadata": {},
          "execution_count": 62
        }
      ]
    },
    {
      "cell_type": "code",
      "source": [
        "parameter_shape = inputs.size()[-2:]\n",
        "gamma = nn.Parameter(torch.ones(parameter_shape))\n",
        "beta = nn.Parameter(torch.ones(parameter_shape))\n"
      ],
      "metadata": {
        "id": "UPx_FJ980tsS"
      },
      "execution_count": 64,
      "outputs": []
    },
    {
      "cell_type": "code",
      "source": [
        "gamma.size(),beta.size()"
      ],
      "metadata": {
        "colab": {
          "base_uri": "https://localhost:8080/"
        },
        "id": "sEbJ765r0_m1",
        "outputId": "2defcc29-df81-476a-9224-f0fe9d8380e2"
      },
      "execution_count": 65,
      "outputs": [
        {
          "output_type": "execute_result",
          "data": {
            "text/plain": [
              "(torch.Size([1, 3]), torch.Size([1, 3]))"
            ]
          },
          "metadata": {},
          "execution_count": 65
        }
      ]
    },
    {
      "cell_type": "code",
      "source": [
        "dims =[-(i+1) for i in range(len(parameter_shape))]"
      ],
      "metadata": {
        "id": "Zw8slITd1KD_"
      },
      "execution_count": 66,
      "outputs": []
    },
    {
      "cell_type": "code",
      "source": [
        "dims"
      ],
      "metadata": {
        "colab": {
          "base_uri": "https://localhost:8080/"
        },
        "id": "MrJDwiSP1U10",
        "outputId": "98ec1971-73ff-4c1c-ffd8-a0b43271500f"
      },
      "execution_count": 67,
      "outputs": [
        {
          "output_type": "execute_result",
          "data": {
            "text/plain": [
              "[-1, -2]"
            ]
          },
          "metadata": {},
          "execution_count": 67
        }
      ]
    },
    {
      "cell_type": "code",
      "source": [
        "mean = inputs.mean(dim=dims,keepdim=True)\n",
        "mean.size()"
      ],
      "metadata": {
        "colab": {
          "base_uri": "https://localhost:8080/"
        },
        "id": "STnzUEaF1VaN",
        "outputId": "c915a823-7625-405b-db9b-6d577e5a5595"
      },
      "execution_count": 68,
      "outputs": [
        {
          "output_type": "execute_result",
          "data": {
            "text/plain": [
              "torch.Size([2, 1, 1])"
            ]
          },
          "metadata": {},
          "execution_count": 68
        }
      ]
    },
    {
      "cell_type": "code",
      "source": [
        "var = ((inputs-mean)**2).mean(dim=dims,keepdim=True)\n",
        "epslion=1e-5\n",
        "std =(var+epslion).sqrt()\n",
        "std.size()"
      ],
      "metadata": {
        "colab": {
          "base_uri": "https://localhost:8080/"
        },
        "id": "1fj-FU8e1f-8",
        "outputId": "98213ac3-bc0c-4ba2-832e-a9b9edcc9382"
      },
      "execution_count": 69,
      "outputs": [
        {
          "output_type": "execute_result",
          "data": {
            "text/plain": [
              "torch.Size([2, 1, 1])"
            ]
          },
          "metadata": {},
          "execution_count": 69
        }
      ]
    },
    {
      "cell_type": "code",
      "source": [
        "y=(inputs-mean)/std\n",
        "y"
      ],
      "metadata": {
        "colab": {
          "base_uri": "https://localhost:8080/"
        },
        "id": "AJwKaOkE1wAM",
        "outputId": "ed095d5f-bdbe-4d96-d1e6-e94cfe8d3a3b"
      },
      "execution_count": 70,
      "outputs": [
        {
          "output_type": "execute_result",
          "data": {
            "text/plain": [
              "tensor([[[ 0.0000, -1.2238,  1.2238]],\n",
              "\n",
              "        [[ 1.4140, -0.7070, -0.7070]]])"
            ]
          },
          "metadata": {},
          "execution_count": 70
        }
      ]
    },
    {
      "cell_type": "code",
      "source": [
        "out =  y*gamma + beta"
      ],
      "metadata": {
        "id": "6fII3xHR1zjg"
      },
      "execution_count": 71,
      "outputs": []
    },
    {
      "cell_type": "code",
      "source": [
        "out"
      ],
      "metadata": {
        "colab": {
          "base_uri": "https://localhost:8080/"
        },
        "id": "qQnGDVwP119j",
        "outputId": "2665712d-9551-49dd-cdf7-d55ff7eb01be"
      },
      "execution_count": 72,
      "outputs": [
        {
          "output_type": "execute_result",
          "data": {
            "text/plain": [
              "tensor([[[ 1.0000, -0.2238,  2.2238]],\n",
              "\n",
              "        [[ 2.4140,  0.2930,  0.2930]]], grad_fn=<AddBackward0>)"
            ]
          },
          "metadata": {},
          "execution_count": 72
        }
      ]
    },
    {
      "cell_type": "code",
      "source": [
        "import torch\n",
        "from torch import nn\n",
        "\n",
        "class  LayerNormalization():\n",
        "  def __init__(self,parameters_shape,epslion=1e-5):\n",
        "    self.parameters_shape = parameters_shape\n",
        "    self.epslion = epslion\n",
        "    self.gamma = nn.Parameter(torch.ones(parameters_shape))\n",
        "    self.beta = nn.Parameter(torch.zeros(parameters_shape))\n",
        "  def forward(self,input):\n",
        "    dims = [-(i+1) for i in range(len(self.parameters_shape))]\n",
        "    mean = inputs.mean(dim=dims,keepdim=True)\n",
        "    print(f\"mean:{mean}\")\n",
        "    var = ((inputs-mean)**2).mean(dim=dims,keepdim=True)\n",
        "    std =(var+self.epslion).sqrt()\n",
        "    print(f\"std:{std}\")\n",
        "    y=(inputs-mean)/std\n",
        "    print(f\"y:{y}\")\n",
        "    out =  y*self.gamma + self.beta\n",
        "    print(f\"out:{out}\")\n",
        "    return out"
      ],
      "metadata": {
        "id": "Tj_jjUKg12X7"
      },
      "execution_count": 73,
      "outputs": []
    },
    {
      "cell_type": "code",
      "source": [],
      "metadata": {
        "id": "iAigvqd82NGe"
      },
      "execution_count": null,
      "outputs": []
    }
  ]
}