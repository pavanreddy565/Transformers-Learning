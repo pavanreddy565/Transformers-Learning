{
  "metadata": {
    "kernelspec": {
      "language": "python",
      "display_name": "Python 3",
      "name": "python3"
    },
    "language_info": {
      "name": "python",
      "version": "3.10.14",
      "mimetype": "text/x-python",
      "codemirror_mode": {
        "name": "ipython",
        "version": 3
      },
      "pygments_lexer": "ipython3",
      "nbconvert_exporter": "python",
      "file_extension": ".py"
    },
    "kaggle": {
      "accelerator": "none",
      "dataSources": [],
      "dockerImageVersionId": 30786,
      "isInternetEnabled": true,
      "language": "python",
      "sourceType": "notebook",
      "isGpuEnabled": false
    },
    "colab": {
      "name": "Encoder in transformer",
      "provenance": [],
      "include_colab_link": true
    }
  },
  "nbformat_minor": 0,
  "nbformat": 4,
  "cells": [
    {
      "cell_type": "markdown",
      "metadata": {
        "id": "view-in-github",
        "colab_type": "text"
      },
      "source": [
        "<a href=\"https://colab.research.google.com/github/pavanreddy565/Transformers-Learning/blob/main/Encoder_in_transformer.ipynb\" target=\"_parent\"><img src=\"https://colab.research.google.com/assets/colab-badge.svg\" alt=\"Open In Colab\"/></a>"
      ]
    },
    {
      "cell_type": "code",
      "source": [
        "import torch\n",
        "import math\n",
        "from torch import nn\n",
        "import torch.nn.functional as F"
      ],
      "metadata": {
        "_uuid": "8f2839f25d086af736a60e9eeb907d3b93b6e0e5",
        "_cell_guid": "b1076dfc-b9ad-4769-8c92-a6c4dae69d19",
        "trusted": true,
        "execution": {
          "iopub.status.busy": "2024-11-24T06:27:46.227873Z",
          "iopub.execute_input": "2024-11-24T06:27:46.228652Z",
          "iopub.status.idle": "2024-11-24T06:27:46.233696Z",
          "shell.execute_reply.started": "2024-11-24T06:27:46.228604Z",
          "shell.execute_reply": "2024-11-24T06:27:46.232496Z"
        },
        "id": "rGwovgTP8Nwx"
      },
      "outputs": [],
      "execution_count": null
    },
    {
      "cell_type": "code",
      "source": [
        "def scaled_dot_product(q,k,v,mask=None):\n",
        "    d_k = q.size()[-1]\n",
        "    scaled = torch.matmul(q, k.transpose(-1,-2)) / math.sqrt(d_k)\n",
        "    print(f'scaled.size() : {scaled.size()}')\n",
        "    if mask is not None:\n",
        "        print(f'-- ADDING MASK of shape {mask.size()} --')\n",
        "        # Broadcasting add. So just the last N dimensions need to match\n",
        "        scaled += mask\n",
        "    attention = F.softmax(scaled, dim=-1)\n",
        "    values = torch.matmul(attention,v)\n",
        "    return values, attention"
      ],
      "metadata": {
        "trusted": true,
        "execution": {
          "iopub.status.busy": "2024-11-24T06:27:46.696471Z",
          "iopub.execute_input": "2024-11-24T06:27:46.696916Z",
          "iopub.status.idle": "2024-11-24T06:27:46.703833Z",
          "shell.execute_reply.started": "2024-11-24T06:27:46.696877Z",
          "shell.execute_reply": "2024-11-24T06:27:46.702604Z"
        },
        "id": "jRO09YZN8Nw1"
      },
      "outputs": [],
      "execution_count": null
    },
    {
      "cell_type": "code",
      "source": [
        "class MultiHeadAttention(nn.Module):\n",
        "\n",
        "    def __init__(self, d_model, num_heads):\n",
        "        super().__init__()\n",
        "        self.d_model = d_model\n",
        "        self.num_heads = num_heads\n",
        "        self.head_dim = d_model // num_heads\n",
        "        self.qkv_layer = nn.Linear(d_model, 3*d_model)\n",
        "        self.linear_layer = nn.Linear(d_model, d_model)\n",
        "    def forward(self, x, mask=None):\n",
        "        batch_size, max_sequence_length, d_model = x.size()\n",
        "        print(f'x.size(): {x.size()}')\n",
        "        qkv = self.qkv_layer(x)\n",
        "        print(f'qkv.size(): {qkv.size()}')\n",
        "        qkv = qkv.reshape(batch_size, max_sequence_length, self.num_heads, 3 * self.head_dim)\n",
        "        print(f'qkv.size(): {qkv.size()}')\n",
        "        qkv = qkv.permute(0, 2, 1, 3)\n",
        "        print(f'qkv.size(): {qkv.size()}')\n",
        "        q, k, v = qkv.chunk(3, dim=-1)\n",
        "        print(f'q.size(): {q.size()}, k.size(): {k.size()}, v.size(): {v.size()}')\n",
        "        values, attention = scaled_dot_product(q, k, v, mask)\n",
        "        print(f'values.size(): {values.size()}, attention.size(): {attention.size()}')\n",
        "        values = values.reshape(batch_size, max_sequence_length, self.num_heads * self.head_dim)\n",
        "        print(f\"values.size(): {values.size()}\")\n",
        "        out = self.linear_layer(values)\n",
        "        print(f\"out.size(): {out.size()}\")\n",
        "        return out\n",
        ""
      ],
      "metadata": {
        "trusted": true,
        "execution": {
          "iopub.status.busy": "2024-11-24T06:39:57.560304Z",
          "iopub.execute_input": "2024-11-24T06:39:57.560703Z",
          "iopub.status.idle": "2024-11-24T06:39:57.570507Z",
          "shell.execute_reply.started": "2024-11-24T06:39:57.560668Z",
          "shell.execute_reply": "2024-11-24T06:39:57.568953Z"
        },
        "id": "c72qlA3n8Nw1"
      },
      "outputs": [],
      "execution_count": null
    },
    {
      "cell_type": "code",
      "source": [
        "class LayerNormalization(nn.Module):\n",
        "    def __init__(self, parameters_shape, eps= 1e-5):\n",
        "        super().__init__()\n",
        "        self.parameter_shape = parameters_shape\n",
        "        self.eps = eps\n",
        "        self.gamma = nn.Parameter(torch.ones(parameters_shape))\n",
        "        self.beta = nn.Parameter(torch.zeros(parameters_shape))\n",
        "    def forward(self, inputs):\n",
        "        dims = [-(i+1) for i in range(len(self.parameter_shape))]\n",
        "        mean = inputs.mean(dim=dims, keepdim= True)\n",
        "        print(f'mean ({mean.size()})')\n",
        "        var=  ((inputs - mean) ** 2).mean(dim=dims, keepdim= True)\n",
        "        std = (var + self.eps).sqrt()\n",
        "        print(f'Standard Deviation ({std.size()})')\n",
        "        y = (inputs - mean) / std\n",
        "        print(f'y: {y.size()}')\n",
        "        out = self.gamma * y + self.beta\n",
        "        print(f'self.gamma: {self.gamma.size()}, self.beta: {self.beta.size()}')\n",
        "        print(f'out: {out.size()}')\n",
        "        return out\n",
        "\n",
        ""
      ],
      "metadata": {
        "trusted": true,
        "execution": {
          "iopub.status.busy": "2024-11-24T06:41:22.486873Z",
          "iopub.execute_input": "2024-11-24T06:41:22.487275Z",
          "iopub.status.idle": "2024-11-24T06:41:22.496328Z",
          "shell.execute_reply.started": "2024-11-24T06:41:22.487239Z",
          "shell.execute_reply": "2024-11-24T06:41:22.495015Z"
        },
        "id": "BClyqSCA8Nw2"
      },
      "outputs": [],
      "execution_count": null
    },
    {
      "cell_type": "code",
      "source": [
        "class PositionWiseFeedForward(nn.Module):\n",
        "\n",
        "    def __init__(self, d_model, hidden, drop_prob=0.1):\n",
        "        super().__init__()\n",
        "        self.linear1 = nn.Linear(d_model,hidden)\n",
        "        self.linear2 = nn.Linear(hidden, d_model)\n",
        "        self.relu = nn.ReLU()\n",
        "        self.dropout = nn.Dropout(p=drop_prob)\n",
        "\n",
        "    def forward(self, x):\n",
        "        x = self.linear1(x)\n",
        "        print(f'x after first linear layer : {x.size()}')\n",
        "        x = self.relu(x)\n",
        "        print(f'x after activation: {x.size()}')\n",
        "        x = self.dropout(x)\n",
        "        print(f'x after dropout: {x.size()}')\n",
        "        x = self.linear2(x)\n",
        "        print(f'x after 2nd linear layer: {x.size()}')\n",
        "        return x\n",
        ""
      ],
      "metadata": {
        "trusted": true,
        "execution": {
          "iopub.status.busy": "2024-11-24T06:36:46.92804Z",
          "iopub.execute_input": "2024-11-24T06:36:46.928468Z",
          "iopub.status.idle": "2024-11-24T06:36:46.936232Z",
          "shell.execute_reply.started": "2024-11-24T06:36:46.928431Z",
          "shell.execute_reply": "2024-11-24T06:36:46.935018Z"
        },
        "id": "R_apTwe-8Nw3"
      },
      "outputs": [],
      "execution_count": null
    },
    {
      "cell_type": "code",
      "source": [
        "class EncoderLayer(nn.Module):\n",
        "    def __init__(self, d_model, ffn_hidden, num_heads, drop_prob):\n",
        "        super().__init__()\n",
        "        self.attention = MultiHeadAttention(d_model, num_heads)\n",
        "        self.norm1 = LayerNormalization(parameters_shape =[d_model])\n",
        "        self.dropout1 = nn.Dropout(p=drop_prob)\n",
        "        self.ffn = PositionWiseFeedForward(d_model, ffn_hidden, drop_prob)\n",
        "        self.norm2 = LayerNormalization(parameters_shape=[d_model])\n",
        "        self.dropout2 = nn.Dropout(p=drop_prob)\n",
        "    def forward(self, x):\n",
        "        residual_x = x\n",
        "        print('------ Attention 1 ------')\n",
        "        x = self.attention(x, mask=None)\n",
        "        print('------- Droput1 --------')\n",
        "        print(f'x.size() = {x.size()}')\n",
        "        x=self.dropout1(x)\n",
        "        print('------- ADD AND LAYER NORMALIZATION 1 --------')\n",
        "        x = self.norm1(x+residual_x)\n",
        "        residual_x = x\n",
        "        print('------- ATTENTION 2 -------')\n",
        "        x = self.ffn(x)\n",
        "        print('------ DROPOUT 2 -------')\n",
        "        x = self.dropout2(x)\n",
        "        print('------- ADD AND LAYER NOMALIZATION 2 ------')\n",
        "        x = self.norm2(x + residual_x)\n",
        "        return x"
      ],
      "metadata": {
        "trusted": true,
        "execution": {
          "iopub.status.busy": "2024-11-24T06:41:32.471989Z",
          "iopub.execute_input": "2024-11-24T06:41:32.472375Z",
          "iopub.status.idle": "2024-11-24T06:41:32.481012Z",
          "shell.execute_reply.started": "2024-11-24T06:41:32.472343Z",
          "shell.execute_reply": "2024-11-24T06:41:32.479755Z"
        },
        "id": "CGaN3lzD8Nw3"
      },
      "outputs": [],
      "execution_count": null
    },
    {
      "cell_type": "code",
      "source": [
        "class Encoder(nn.Module):\n",
        "    def __init__(self, d_model, ffn_hidden, num_heads, drop_prob, num_layers):\n",
        "        super().__init__()\n",
        "        self.layers = nn.Sequential(*[EncoderLayer(d_model, ffn_hidden, num_heads, drop_prob) for _ in range(num_layers)])\n",
        "    def forward(self, x):\n",
        "        x = self.layers(x)\n",
        "        return x"
      ],
      "metadata": {
        "trusted": true,
        "execution": {
          "iopub.status.busy": "2024-11-24T06:41:32.879894Z",
          "iopub.execute_input": "2024-11-24T06:41:32.880288Z",
          "iopub.status.idle": "2024-11-24T06:41:32.887159Z",
          "shell.execute_reply.started": "2024-11-24T06:41:32.880254Z",
          "shell.execute_reply": "2024-11-24T06:41:32.885893Z"
        },
        "id": "cS5kp8sk8Nw4"
      },
      "outputs": [],
      "execution_count": null
    },
    {
      "cell_type": "code",
      "source": [
        "d_model = 512\n",
        "num_heads = 8\n",
        "drop_prob = 0.1\n",
        "batch_size = 30\n",
        "max_sequence_length = 200\n",
        "ffn_hidden = 2048\n",
        "num_layers =  5\n",
        "\n",
        "encoder = Encoder(d_model, ffn_hidden, num_heads, drop_prob, num_layers)\n"
      ],
      "metadata": {
        "trusted": true,
        "execution": {
          "iopub.status.busy": "2024-11-24T06:41:33.250198Z",
          "iopub.execute_input": "2024-11-24T06:41:33.250623Z",
          "iopub.status.idle": "2024-11-24T06:41:33.380575Z",
          "shell.execute_reply.started": "2024-11-24T06:41:33.250587Z",
          "shell.execute_reply": "2024-11-24T06:41:33.379083Z"
        },
        "id": "zuBWSO-28Nw5"
      },
      "outputs": [],
      "execution_count": null
    },
    {
      "cell_type": "code",
      "source": [
        "x = torch.randn( (batch_size, max_sequence_length, d_model) ) # includes positional encoding\n",
        "out = encoder(x)\n",
        ""
      ],
      "metadata": {
        "trusted": true,
        "execution": {
          "iopub.status.busy": "2024-11-24T06:41:33.715735Z",
          "iopub.execute_input": "2024-11-24T06:41:33.716212Z",
          "iopub.status.idle": "2024-11-24T06:41:37.408831Z",
          "shell.execute_reply.started": "2024-11-24T06:41:33.716173Z",
          "shell.execute_reply": "2024-11-24T06:41:37.407566Z"
        },
        "id": "lBacnfnU8Nw5",
        "outputId": "c008e3e4-d178-49e2-b119-d406a0994e6d"
      },
      "outputs": [
        {
          "name": "stdout",
          "text": "------ Attention 1 ------\nx.size(): torch.Size([30, 200, 512])\nqkv.size(): torch.Size([30, 200, 1536])\nqkv.size(): torch.Size([30, 200, 8, 192])\nqkv.size(): torch.Size([30, 8, 200, 192])\nq.size(): torch.Size([30, 8, 200, 64]), k.size(): torch.Size([30, 8, 200, 64]), v.size(): torch.Size([30, 8, 200, 64])\nscaled.size() : torch.Size([30, 8, 200, 200])\nvalues.size(): torch.Size([30, 8, 200, 64]), attention.size(): torch.Size([30, 8, 200, 200])\nvalues.size(): torch.Size([30, 200, 512])\nout.size(): torch.Size([30, 200, 512])\n------- Droput1 --------\nx.size() = torch.Size([30, 200, 512])\n------- ADD AND LAYER NORMALIZATION 1 --------\nmean (torch.Size([30, 200, 1]))\nStandard Deviation (torch.Size([30, 200, 1]))\ny: torch.Size([30, 200, 512])\nself.gamma: torch.Size([512]), self.beta: torch.Size([512])\nout: torch.Size([30, 200, 512])\n------- ATTENTION 2 -------\nx after first linear layer : torch.Size([30, 200, 2048])\nx after activation: torch.Size([30, 200, 2048])\nx after dropout: torch.Size([30, 200, 2048])\nx after 2nd linear layer: torch.Size([30, 200, 512])\n------ DROPOUT 2 -------\n------- ADD AND LAYER NOMALIZATION 2 ------\nmean (torch.Size([30, 200, 1]))\nStandard Deviation (torch.Size([30, 200, 1]))\ny: torch.Size([30, 200, 512])\nself.gamma: torch.Size([512]), self.beta: torch.Size([512])\nout: torch.Size([30, 200, 512])\n------ Attention 1 ------\nx.size(): torch.Size([30, 200, 512])\nqkv.size(): torch.Size([30, 200, 1536])\nqkv.size(): torch.Size([30, 200, 8, 192])\nqkv.size(): torch.Size([30, 8, 200, 192])\nq.size(): torch.Size([30, 8, 200, 64]), k.size(): torch.Size([30, 8, 200, 64]), v.size(): torch.Size([30, 8, 200, 64])\nscaled.size() : torch.Size([30, 8, 200, 200])\nvalues.size(): torch.Size([30, 8, 200, 64]), attention.size(): torch.Size([30, 8, 200, 200])\nvalues.size(): torch.Size([30, 200, 512])\nout.size(): torch.Size([30, 200, 512])\n------- Droput1 --------\nx.size() = torch.Size([30, 200, 512])\n------- ADD AND LAYER NORMALIZATION 1 --------\nmean (torch.Size([30, 200, 1]))\nStandard Deviation (torch.Size([30, 200, 1]))\ny: torch.Size([30, 200, 512])\nself.gamma: torch.Size([512]), self.beta: torch.Size([512])\nout: torch.Size([30, 200, 512])\n------- ATTENTION 2 -------\nx after first linear layer : torch.Size([30, 200, 2048])\nx after activation: torch.Size([30, 200, 2048])\nx after dropout: torch.Size([30, 200, 2048])\nx after 2nd linear layer: torch.Size([30, 200, 512])\n------ DROPOUT 2 -------\n------- ADD AND LAYER NOMALIZATION 2 ------\nmean (torch.Size([30, 200, 1]))\nStandard Deviation (torch.Size([30, 200, 1]))\ny: torch.Size([30, 200, 512])\nself.gamma: torch.Size([512]), self.beta: torch.Size([512])\nout: torch.Size([30, 200, 512])\n------ Attention 1 ------\nx.size(): torch.Size([30, 200, 512])\nqkv.size(): torch.Size([30, 200, 1536])\nqkv.size(): torch.Size([30, 200, 8, 192])\nqkv.size(): torch.Size([30, 8, 200, 192])\nq.size(): torch.Size([30, 8, 200, 64]), k.size(): torch.Size([30, 8, 200, 64]), v.size(): torch.Size([30, 8, 200, 64])\nscaled.size() : torch.Size([30, 8, 200, 200])\nvalues.size(): torch.Size([30, 8, 200, 64]), attention.size(): torch.Size([30, 8, 200, 200])\nvalues.size(): torch.Size([30, 200, 512])\nout.size(): torch.Size([30, 200, 512])\n------- Droput1 --------\nx.size() = torch.Size([30, 200, 512])\n------- ADD AND LAYER NORMALIZATION 1 --------\nmean (torch.Size([30, 200, 1]))\nStandard Deviation (torch.Size([30, 200, 1]))\ny: torch.Size([30, 200, 512])\nself.gamma: torch.Size([512]), self.beta: torch.Size([512])\nout: torch.Size([30, 200, 512])\n------- ATTENTION 2 -------\nx after first linear layer : torch.Size([30, 200, 2048])\nx after activation: torch.Size([30, 200, 2048])\nx after dropout: torch.Size([30, 200, 2048])\nx after 2nd linear layer: torch.Size([30, 200, 512])\n------ DROPOUT 2 -------\n------- ADD AND LAYER NOMALIZATION 2 ------\nmean (torch.Size([30, 200, 1]))\nStandard Deviation (torch.Size([30, 200, 1]))\ny: torch.Size([30, 200, 512])\nself.gamma: torch.Size([512]), self.beta: torch.Size([512])\nout: torch.Size([30, 200, 512])\n------ Attention 1 ------\nx.size(): torch.Size([30, 200, 512])\nqkv.size(): torch.Size([30, 200, 1536])\nqkv.size(): torch.Size([30, 200, 8, 192])\nqkv.size(): torch.Size([30, 8, 200, 192])\nq.size(): torch.Size([30, 8, 200, 64]), k.size(): torch.Size([30, 8, 200, 64]), v.size(): torch.Size([30, 8, 200, 64])\nscaled.size() : torch.Size([30, 8, 200, 200])\nvalues.size(): torch.Size([30, 8, 200, 64]), attention.size(): torch.Size([30, 8, 200, 200])\nvalues.size(): torch.Size([30, 200, 512])\nout.size(): torch.Size([30, 200, 512])\n------- Droput1 --------\nx.size() = torch.Size([30, 200, 512])\n------- ADD AND LAYER NORMALIZATION 1 --------\nmean (torch.Size([30, 200, 1]))\nStandard Deviation (torch.Size([30, 200, 1]))\ny: torch.Size([30, 200, 512])\nself.gamma: torch.Size([512]), self.beta: torch.Size([512])\nout: torch.Size([30, 200, 512])\n------- ATTENTION 2 -------\nx after first linear layer : torch.Size([30, 200, 2048])\nx after activation: torch.Size([30, 200, 2048])\nx after dropout: torch.Size([30, 200, 2048])\nx after 2nd linear layer: torch.Size([30, 200, 512])\n------ DROPOUT 2 -------\n------- ADD AND LAYER NOMALIZATION 2 ------\nmean (torch.Size([30, 200, 1]))\nStandard Deviation (torch.Size([30, 200, 1]))\ny: torch.Size([30, 200, 512])\nself.gamma: torch.Size([512]), self.beta: torch.Size([512])\nout: torch.Size([30, 200, 512])\n------ Attention 1 ------\nx.size(): torch.Size([30, 200, 512])\nqkv.size(): torch.Size([30, 200, 1536])\nqkv.size(): torch.Size([30, 200, 8, 192])\nqkv.size(): torch.Size([30, 8, 200, 192])\nq.size(): torch.Size([30, 8, 200, 64]), k.size(): torch.Size([30, 8, 200, 64]), v.size(): torch.Size([30, 8, 200, 64])\nscaled.size() : torch.Size([30, 8, 200, 200])\nvalues.size(): torch.Size([30, 8, 200, 64]), attention.size(): torch.Size([30, 8, 200, 200])\nvalues.size(): torch.Size([30, 200, 512])\nout.size(): torch.Size([30, 200, 512])\n------- Droput1 --------\nx.size() = torch.Size([30, 200, 512])\n------- ADD AND LAYER NORMALIZATION 1 --------\nmean (torch.Size([30, 200, 1]))\nStandard Deviation (torch.Size([30, 200, 1]))\ny: torch.Size([30, 200, 512])\nself.gamma: torch.Size([512]), self.beta: torch.Size([512])\nout: torch.Size([30, 200, 512])\n------- ATTENTION 2 -------\nx after first linear layer : torch.Size([30, 200, 2048])\nx after activation: torch.Size([30, 200, 2048])\nx after dropout: torch.Size([30, 200, 2048])\nx after 2nd linear layer: torch.Size([30, 200, 512])\n------ DROPOUT 2 -------\n------- ADD AND LAYER NOMALIZATION 2 ------\nmean (torch.Size([30, 200, 1]))\nStandard Deviation (torch.Size([30, 200, 1]))\ny: torch.Size([30, 200, 512])\nself.gamma: torch.Size([512]), self.beta: torch.Size([512])\nout: torch.Size([30, 200, 512])\n",
          "output_type": "stream"
        }
      ],
      "execution_count": null
    },
    {
      "cell_type": "code",
      "source": [],
      "metadata": {
        "trusted": true,
        "id": "LXAvfxTn8Nw6"
      },
      "outputs": [],
      "execution_count": null
    },
    {
      "cell_type": "code",
      "source": [],
      "metadata": {
        "trusted": true,
        "id": "WLA-nx_M8Nw6"
      },
      "outputs": [],
      "execution_count": null
    }
  ]
}