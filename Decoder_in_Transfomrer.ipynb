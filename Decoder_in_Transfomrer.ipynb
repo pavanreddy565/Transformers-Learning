{
  "metadata": {
    "kernelspec": {
      "language": "python",
      "display_name": "Python 3",
      "name": "python3"
    },
    "language_info": {
      "name": "python",
      "version": "3.10.14",
      "mimetype": "text/x-python",
      "codemirror_mode": {
        "name": "ipython",
        "version": 3
      },
      "pygments_lexer": "ipython3",
      "nbconvert_exporter": "python",
      "file_extension": ".py"
    },
    "kaggle": {
      "accelerator": "none",
      "dataSources": [],
      "dockerImageVersionId": 30786,
      "isInternetEnabled": true,
      "language": "python",
      "sourceType": "notebook",
      "isGpuEnabled": false
    },
    "colab": {
      "name": "Decoder in Transfomrer",
      "provenance": [],
      "include_colab_link": true
    }
  },
  "nbformat_minor": 0,
  "nbformat": 4,
  "cells": [
    {
      "cell_type": "markdown",
      "metadata": {
        "id": "view-in-github",
        "colab_type": "text"
      },
      "source": [
        "<a href=\"https://colab.research.google.com/github/pavanreddy565/Transformers-Learning/blob/main/Decoder_in_Transfomrer.ipynb\" target=\"_parent\"><img src=\"https://colab.research.google.com/assets/colab-badge.svg\" alt=\"Open In Colab\"/></a>"
      ]
    },
    {
      "cell_type": "code",
      "source": [
        "import torch\n",
        "import math\n",
        "from torch import nn\n",
        "import torch.nn.functional as F"
      ],
      "metadata": {
        "_uuid": "8f2839f25d086af736a60e9eeb907d3b93b6e0e5",
        "_cell_guid": "b1076dfc-b9ad-4769-8c92-a6c4dae69d19",
        "trusted": true,
        "execution": {
          "iopub.status.busy": "2024-11-24T07:31:36.635658Z",
          "iopub.execute_input": "2024-11-24T07:31:36.636611Z",
          "iopub.status.idle": "2024-11-24T07:31:39.760552Z",
          "shell.execute_reply.started": "2024-11-24T07:31:36.636505Z",
          "shell.execute_reply": "2024-11-24T07:31:39.756925Z"
        },
        "id": "6sWfb94FN99y"
      },
      "outputs": [],
      "execution_count": null
    },
    {
      "cell_type": "code",
      "source": [
        "def scaled_dot_product(q,k,v,mask=None):\n",
        "    d_k = q.size()[-1]\n",
        "    scaled = torch.matmul(q, k.transpose(-1,-2)) / math.sqrt(d_k)\n",
        "    print(f'scaled.size() : {scaled.size()}')\n",
        "    if mask is not None:\n",
        "        print(f'-- ADDING MASK of shape {mask.size()} --')\n",
        "        # Broadcasting add. So just the last N dimensions need to match\n",
        "        scaled += mask\n",
        "    attention = F.softmax(scaled, dim=-1)\n",
        "    values = torch.matmul(attention,v)\n",
        "    return values, attention"
      ],
      "metadata": {
        "trusted": true,
        "execution": {
          "iopub.status.busy": "2024-11-24T07:31:39.762362Z",
          "iopub.execute_input": "2024-11-24T07:31:39.765056Z",
          "iopub.status.idle": "2024-11-24T07:31:39.779767Z",
          "shell.execute_reply.started": "2024-11-24T07:31:39.764979Z",
          "shell.execute_reply": "2024-11-24T07:31:39.777053Z"
        },
        "id": "7nRl10VXN992"
      },
      "outputs": [],
      "execution_count": null
    },
    {
      "cell_type": "code",
      "source": [
        "class MultiHeadAttention(nn.Module):\n",
        "\n",
        "    def __init__(self, d_model, num_heads):\n",
        "        super().__init__()\n",
        "        self.d_model = d_model\n",
        "        self.num_heads = num_heads\n",
        "        self.head_dim = d_model // num_heads\n",
        "        self.qkv_layer = nn.Linear(d_model, 3*d_model)\n",
        "        self.linear_layer = nn.Linear(d_model, d_model)\n",
        "    def forward(self, x, mask=None):\n",
        "        batch_size, max_sequence_length, d_model = x.size()\n",
        "        print(f'x.size(): {x.size()}')\n",
        "        qkv = self.qkv_layer(x)\n",
        "        print(f'qkv.size(): {qkv.size()}')\n",
        "        qkv = qkv.reshape(batch_size, max_sequence_length, self.num_heads, 3 * self.head_dim)\n",
        "        print(f'qkv.size(): {qkv.size()}')\n",
        "        qkv = qkv.permute(0, 2, 1, 3)\n",
        "        print(f'qkv.size(): {qkv.size()}')\n",
        "        q, k, v = qkv.chunk(3, dim=-1)\n",
        "        print(f'q.size(): {q.size()}, k.size(): {k.size()}, v.size(): {v.size()}')\n",
        "        values, attention = scaled_dot_product(q, k, v, mask)\n",
        "        print(f'values.size(): {values.size()}, attention.size(): {attention.size()}')\n",
        "        values = values.reshape(batch_size, max_sequence_length, self.num_heads * self.head_dim)\n",
        "        print(f\"values.size(): {values.size()}\")\n",
        "        out = self.linear_layer(values)\n",
        "        print(f\"out.size(): {out.size()}\")\n",
        "        return out\n",
        ""
      ],
      "metadata": {
        "trusted": true,
        "execution": {
          "iopub.status.busy": "2024-11-24T07:31:43.44383Z",
          "iopub.execute_input": "2024-11-24T07:31:43.444231Z",
          "iopub.status.idle": "2024-11-24T07:31:43.454454Z",
          "shell.execute_reply.started": "2024-11-24T07:31:43.444194Z",
          "shell.execute_reply": "2024-11-24T07:31:43.452867Z"
        },
        "id": "Ijhi0wVKN993"
      },
      "outputs": [],
      "execution_count": null
    },
    {
      "cell_type": "code",
      "source": [
        "class LayerNormalization(nn.Module):\n",
        "    def __init__(self, parameters_shape, eps= 1e-5):\n",
        "        super().__init__()\n",
        "        self.parameter_shape = parameters_shape\n",
        "        self.eps = eps\n",
        "        self.gamma = nn.Parameter(torch.ones(parameters_shape))\n",
        "        self.beta = nn.Parameter(torch.zeros(parameters_shape))\n",
        "    def forward(self, inputs):\n",
        "        dims = [-(i+1) for i in range(len(self.parameter_shape))]\n",
        "        mean = inputs.mean(dim=dims, keepdim= True)\n",
        "        print(f'mean ({mean.size()})')\n",
        "        var=  ((inputs - mean) ** 2).mean(dim=dims, keepdim= True)\n",
        "        std = (var + self.eps).sqrt()\n",
        "        print(f'Standard Deviation ({std.size()})')\n",
        "        y = (inputs - mean) / std\n",
        "        print(f'y: {y.size()}')\n",
        "        out = self.gamma * y + self.beta\n",
        "        print(f'self.gamma: {self.gamma.size()}, self.beta: {self.beta.size()}')\n",
        "        print(f'out: {out.size()}')\n",
        "        return out\n",
        "\n",
        ""
      ],
      "metadata": {
        "trusted": true,
        "execution": {
          "iopub.status.busy": "2024-11-24T07:31:54.720246Z",
          "iopub.execute_input": "2024-11-24T07:31:54.720615Z",
          "iopub.status.idle": "2024-11-24T07:31:54.728918Z",
          "shell.execute_reply.started": "2024-11-24T07:31:54.720583Z",
          "shell.execute_reply": "2024-11-24T07:31:54.727681Z"
        },
        "id": "ugUruB34N995"
      },
      "outputs": [],
      "execution_count": null
    },
    {
      "cell_type": "code",
      "source": [
        "class PositionWiseFeedForward(nn.Module):\n",
        "\n",
        "    def __init__(self, d_model, hidden, drop_prob=0.1):\n",
        "        super().__init__()\n",
        "        self.linear1 = nn.Linear(d_model,hidden)\n",
        "        self.linear2 = nn.Linear(hidden, d_model)\n",
        "        self.relu = nn.ReLU()\n",
        "        self.dropout = nn.Dropout(p=drop_prob)\n",
        "\n",
        "    def forward(self, x):\n",
        "        x = self.linear1(x)\n",
        "        print(f'x after first linear layer : {x.size()}')\n",
        "        x = self.relu(x)\n",
        "        print(f'x after activation: {x.size()}')\n",
        "        x = self.dropout(x)\n",
        "        print(f'x after dropout: {x.size()}')\n",
        "        x = self.linear2(x)\n",
        "        print(f'x after 2nd linear layer: {x.size()}')\n",
        "        return x\n",
        ""
      ],
      "metadata": {
        "trusted": true,
        "execution": {
          "iopub.status.busy": "2024-11-24T07:32:04.820402Z",
          "iopub.execute_input": "2024-11-24T07:32:04.820765Z",
          "iopub.status.idle": "2024-11-24T07:32:04.828111Z",
          "shell.execute_reply.started": "2024-11-24T07:32:04.820734Z",
          "shell.execute_reply": "2024-11-24T07:32:04.826982Z"
        },
        "id": "3Ni_RhVzN997"
      },
      "outputs": [],
      "execution_count": null
    },
    {
      "cell_type": "code",
      "source": [
        "class MulitHeadCrossAttention(nn.Module):\n",
        "\n",
        "    def __init__(self, d_model, num_heads):\n",
        "        super().__init__()\n",
        "        self.d_model = d_model\n",
        "        self.num_heads = num_heads\n",
        "        self.head_dim = d_model // num_heads\n",
        "        self.kv_layer = nn.Linear(d_model, 2 * d_model)\n",
        "        self.q_layer = nn.Linear(d_model, d_model)\n",
        "        self.linear_layer = nn.Linear(d_model, d_model)\n",
        "\n",
        "    def forward(self, x, y , mask=None):\n",
        "        batch_size, sequence_length, d_model = x.size()\n",
        "        print(f'x.size(): {x.size()}')\n",
        "        kv = self.kv_layer(x)\n",
        "        print(f'kv.size(): {kv.size()}')\n",
        "        q = self.q_layer(y)\n",
        "        print(f'q.size(): {q.size()}')\n",
        "        kv = kv.reshape(batch_size, sequence_length, self.num_heads, 2* self.head_dim)  # 30 x 200 x 8 x 128\n",
        "        q = q.reshape(batch_size, sequence_length, self.num_heads, self.head_dim)  # 30 x 200 x 8 x 64\n",
        "        kv = kv.permute(0, 2, 1, 3) # 30 x 8 x 200 x 128\n",
        "        q = q.permute(0, 2, 1, 3) # 30 x 8 x 200 x 64\n",
        "        k,v = kv.chunk(2, dim=-1)\n",
        "        values, attention = scaled_dot_product(q, k, v, mask)\n",
        "        print(f'values: {values.size()}, attention: {attention.size()}')\n",
        "        values = values.reshape(batch_size, sequence_length, d_model)\n",
        "        out = self.linear_layer(values)\n",
        "        print(f'out after passing through linear layer: {out.size()}')\n",
        "        return out\n",
        ""
      ],
      "metadata": {
        "trusted": true,
        "execution": {
          "iopub.status.busy": "2024-11-24T08:04:32.29099Z",
          "iopub.execute_input": "2024-11-24T08:04:32.291435Z",
          "iopub.status.idle": "2024-11-24T08:04:32.301091Z",
          "shell.execute_reply.started": "2024-11-24T08:04:32.291395Z",
          "shell.execute_reply": "2024-11-24T08:04:32.299763Z"
        },
        "id": "colI90mWN997"
      },
      "outputs": [],
      "execution_count": null
    },
    {
      "cell_type": "code",
      "source": [
        "class DecoderLayer(nn.Module):\n",
        "\n",
        "    def __init__(self, d_model, ffn_hidden, num_heads, drop_prob):\n",
        "        super().__init__()\n",
        "        self.self_attention = MultiHeadAttention(d_model, num_heads )\n",
        "        self.norm1 = LayerNormalization([d_model])\n",
        "        self.dropout1 = nn.Dropout(p=drop_prob)\n",
        "        self.encoder_decoder_attention = MulitHeadCrossAttention(d_model, num_heads)\n",
        "        self.norm2 = LayerNormalization([d_model])\n",
        "        self.dropout2 = nn.Dropout(p=drop_prob)\n",
        "        self.ffn = PositionWiseFeedForward(d_model, ffn_hidden, drop_prob)\n",
        "        self.norm3 = LayerNormalization([d_model])\n",
        "        self.dropout3 = nn.Dropout(p=drop_prob)\n",
        "\n",
        "    def forward(self,x, y, decoder_mask):\n",
        "        _y = y\n",
        "        print('masked self attention')\n",
        "        y = self.self_attention(y, mask = decoder_mask)\n",
        "        print('DROP OUT 1')\n",
        "        y = self.dropout1(y)\n",
        "        print('Add + Layer Normalization 1')\n",
        "        y = self.norm1(y + _y)\n",
        "        _y = y\n",
        "\n",
        "        print('CROSS ATTENTION')\n",
        "        y = self.encoder_decoder_attention(x, y, mask=None)\n",
        "        print('DROP OUT 2')\n",
        "        y = self.dropout2(y)\n",
        "        print('ADD + LAYER NORMALIZATION 2')\n",
        "        y = self.norm2(y + _y)\n",
        "\n",
        "        _y = y\n",
        "        print('FEED FORWARD 1')\n",
        "        y = self.ffn(y)\n",
        "        print('DROP OUT 3')\n",
        "        y = self.dropout3(y)\n",
        "        print('ADD + LAYER NORMALIZATION 3')\n",
        "        y = self.norm3(y + _y)\n",
        "        return y"
      ],
      "metadata": {
        "trusted": true,
        "execution": {
          "iopub.status.busy": "2024-11-24T08:05:00.370893Z",
          "iopub.execute_input": "2024-11-24T08:05:00.371304Z",
          "iopub.status.idle": "2024-11-24T08:05:00.380879Z",
          "shell.execute_reply.started": "2024-11-24T08:05:00.371265Z",
          "shell.execute_reply": "2024-11-24T08:05:00.379405Z"
        },
        "id": "gPsomP9CN998"
      },
      "outputs": [],
      "execution_count": null
    },
    {
      "cell_type": "code",
      "source": [
        "class SequentialDecoder(nn.Sequential):\n",
        "    def forward(self, *inputs):\n",
        "        x, y, mask = inputs\n",
        "        for module in self._modules.values():\n",
        "            y = module(x,y, mask)\n",
        "        return y\n",
        "\n",
        "class Decoder(nn.Module):\n",
        "    def __init__(self, d_model, ffn_hidden, num_heads, drop_prob, num_layers = 1):\n",
        "        super().__init__()\n",
        "        self.layers = SequentialDecoder(*[DecoderLayer(d_model, ffn_hidden, num_heads, drop_prob) for _ in range(num_layers)])\n",
        "\n",
        "    def forward(self, x, y, mask):\n",
        "        y = self.layers(x, y, mask)\n",
        "        return y\n",
        ""
      ],
      "metadata": {
        "trusted": true,
        "execution": {
          "iopub.status.busy": "2024-11-24T08:05:00.782678Z",
          "iopub.execute_input": "2024-11-24T08:05:00.783115Z",
          "iopub.status.idle": "2024-11-24T08:05:00.790845Z",
          "shell.execute_reply.started": "2024-11-24T08:05:00.783075Z",
          "shell.execute_reply": "2024-11-24T08:05:00.789719Z"
        },
        "id": "vwr6WcLHN999"
      },
      "outputs": [],
      "execution_count": null
    },
    {
      "cell_type": "code",
      "source": [
        "d_model = 512\n",
        "num_heads = 8\n",
        "drop_prob = 0.1\n",
        "batch_size = 30\n",
        "max_sequence_length = 200\n",
        "ffn_hidden = 2048\n",
        "num_layers = 5\n",
        "\n",
        "x = torch.randn( (batch_size, max_sequence_length, d_model) ) # English sentence positional encoded\n",
        "y = torch.randn( (batch_size, max_sequence_length, d_model) ) # Telugu sentence positional encoded\n",
        "mask = torch.full([max_sequence_length, max_sequence_length] , float('-inf'))\n",
        "mask = torch.triu(mask, diagonal=1)\n",
        "decoder = Decoder(d_model, ffn_hidden, num_heads, drop_prob, num_layers)\n",
        "out = decoder(x, y, mask)"
      ],
      "metadata": {
        "trusted": true,
        "execution": {
          "iopub.status.busy": "2024-11-24T08:05:01.124393Z",
          "iopub.execute_input": "2024-11-24T08:05:01.124784Z",
          "iopub.status.idle": "2024-11-24T08:05:07.09881Z",
          "shell.execute_reply.started": "2024-11-24T08:05:01.124749Z",
          "shell.execute_reply": "2024-11-24T08:05:07.097771Z"
        },
        "id": "Sy9s5G2AN999",
        "outputId": "715ca009-9dee-4b64-89e4-3081b642059d"
      },
      "outputs": [
        {
          "name": "stdout",
          "text": "masked self attention\nx.size(): torch.Size([30, 200, 512])\nqkv.size(): torch.Size([30, 200, 1536])\nqkv.size(): torch.Size([30, 200, 8, 192])\nqkv.size(): torch.Size([30, 8, 200, 192])\nq.size(): torch.Size([30, 8, 200, 64]), k.size(): torch.Size([30, 8, 200, 64]), v.size(): torch.Size([30, 8, 200, 64])\nscaled.size() : torch.Size([30, 8, 200, 200])\n-- ADDING MASK of shape torch.Size([200, 200]) --\nvalues.size(): torch.Size([30, 8, 200, 64]), attention.size(): torch.Size([30, 8, 200, 200])\nvalues.size(): torch.Size([30, 200, 512])\nout.size(): torch.Size([30, 200, 512])\nDROP OUT 1\nAdd + Layer Normalization 1\nmean (torch.Size([30, 200, 1]))\nStandard Deviation (torch.Size([30, 200, 1]))\ny: torch.Size([30, 200, 512])\nself.gamma: torch.Size([512]), self.beta: torch.Size([512])\nout: torch.Size([30, 200, 512])\nCROSS ATTENTION\nx.size(): torch.Size([30, 200, 512])\nkv.size(): torch.Size([30, 200, 1024])\nq.size(): torch.Size([30, 200, 512])\nscaled.size() : torch.Size([30, 8, 200, 200])\nvalues: torch.Size([30, 8, 200, 64]), attention: torch.Size([30, 8, 200, 200])\nout after passing through linear layer: torch.Size([30, 200, 512])\nDROP OUT 2\nADD + LAYER NORMALIZATION 2\nmean (torch.Size([30, 200, 1]))\nStandard Deviation (torch.Size([30, 200, 1]))\ny: torch.Size([30, 200, 512])\nself.gamma: torch.Size([512]), self.beta: torch.Size([512])\nout: torch.Size([30, 200, 512])\nFEED FORWARD 1\nx after first linear layer : torch.Size([30, 200, 2048])\nx after activation: torch.Size([30, 200, 2048])\nx after dropout: torch.Size([30, 200, 2048])\nx after 2nd linear layer: torch.Size([30, 200, 512])\nDROP OUT 3\nADD + LAYER NORMALIZATION 3\nmean (torch.Size([30, 200, 1]))\nStandard Deviation (torch.Size([30, 200, 1]))\ny: torch.Size([30, 200, 512])\nself.gamma: torch.Size([512]), self.beta: torch.Size([512])\nout: torch.Size([30, 200, 512])\nmasked self attention\nx.size(): torch.Size([30, 200, 512])\nqkv.size(): torch.Size([30, 200, 1536])\nqkv.size(): torch.Size([30, 200, 8, 192])\nqkv.size(): torch.Size([30, 8, 200, 192])\nq.size(): torch.Size([30, 8, 200, 64]), k.size(): torch.Size([30, 8, 200, 64]), v.size(): torch.Size([30, 8, 200, 64])\nscaled.size() : torch.Size([30, 8, 200, 200])\n-- ADDING MASK of shape torch.Size([200, 200]) --\nvalues.size(): torch.Size([30, 8, 200, 64]), attention.size(): torch.Size([30, 8, 200, 200])\nvalues.size(): torch.Size([30, 200, 512])\nout.size(): torch.Size([30, 200, 512])\nDROP OUT 1\nAdd + Layer Normalization 1\nmean (torch.Size([30, 200, 1]))\nStandard Deviation (torch.Size([30, 200, 1]))\ny: torch.Size([30, 200, 512])\nself.gamma: torch.Size([512]), self.beta: torch.Size([512])\nout: torch.Size([30, 200, 512])\nCROSS ATTENTION\nx.size(): torch.Size([30, 200, 512])\nkv.size(): torch.Size([30, 200, 1024])\nq.size(): torch.Size([30, 200, 512])\nscaled.size() : torch.Size([30, 8, 200, 200])\nvalues: torch.Size([30, 8, 200, 64]), attention: torch.Size([30, 8, 200, 200])\nout after passing through linear layer: torch.Size([30, 200, 512])\nDROP OUT 2\nADD + LAYER NORMALIZATION 2\nmean (torch.Size([30, 200, 1]))\nStandard Deviation (torch.Size([30, 200, 1]))\ny: torch.Size([30, 200, 512])\nself.gamma: torch.Size([512]), self.beta: torch.Size([512])\nout: torch.Size([30, 200, 512])\nFEED FORWARD 1\nx after first linear layer : torch.Size([30, 200, 2048])\nx after activation: torch.Size([30, 200, 2048])\nx after dropout: torch.Size([30, 200, 2048])\nx after 2nd linear layer: torch.Size([30, 200, 512])\nDROP OUT 3\nADD + LAYER NORMALIZATION 3\nmean (torch.Size([30, 200, 1]))\nStandard Deviation (torch.Size([30, 200, 1]))\ny: torch.Size([30, 200, 512])\nself.gamma: torch.Size([512]), self.beta: torch.Size([512])\nout: torch.Size([30, 200, 512])\nmasked self attention\nx.size(): torch.Size([30, 200, 512])\nqkv.size(): torch.Size([30, 200, 1536])\nqkv.size(): torch.Size([30, 200, 8, 192])\nqkv.size(): torch.Size([30, 8, 200, 192])\nq.size(): torch.Size([30, 8, 200, 64]), k.size(): torch.Size([30, 8, 200, 64]), v.size(): torch.Size([30, 8, 200, 64])\nscaled.size() : torch.Size([30, 8, 200, 200])\n-- ADDING MASK of shape torch.Size([200, 200]) --\nvalues.size(): torch.Size([30, 8, 200, 64]), attention.size(): torch.Size([30, 8, 200, 200])\nvalues.size(): torch.Size([30, 200, 512])\nout.size(): torch.Size([30, 200, 512])\nDROP OUT 1\nAdd + Layer Normalization 1\nmean (torch.Size([30, 200, 1]))\nStandard Deviation (torch.Size([30, 200, 1]))\ny: torch.Size([30, 200, 512])\nself.gamma: torch.Size([512]), self.beta: torch.Size([512])\nout: torch.Size([30, 200, 512])\nCROSS ATTENTION\nx.size(): torch.Size([30, 200, 512])\nkv.size(): torch.Size([30, 200, 1024])\nq.size(): torch.Size([30, 200, 512])\nscaled.size() : torch.Size([30, 8, 200, 200])\nvalues: torch.Size([30, 8, 200, 64]), attention: torch.Size([30, 8, 200, 200])\nout after passing through linear layer: torch.Size([30, 200, 512])\nDROP OUT 2\nADD + LAYER NORMALIZATION 2\nmean (torch.Size([30, 200, 1]))\nStandard Deviation (torch.Size([30, 200, 1]))\ny: torch.Size([30, 200, 512])\nself.gamma: torch.Size([512]), self.beta: torch.Size([512])\nout: torch.Size([30, 200, 512])\nFEED FORWARD 1\nx after first linear layer : torch.Size([30, 200, 2048])\nx after activation: torch.Size([30, 200, 2048])\nx after dropout: torch.Size([30, 200, 2048])\nx after 2nd linear layer: torch.Size([30, 200, 512])\nDROP OUT 3\nADD + LAYER NORMALIZATION 3\nmean (torch.Size([30, 200, 1]))\nStandard Deviation (torch.Size([30, 200, 1]))\ny: torch.Size([30, 200, 512])\nself.gamma: torch.Size([512]), self.beta: torch.Size([512])\nout: torch.Size([30, 200, 512])\nmasked self attention\nx.size(): torch.Size([30, 200, 512])\nqkv.size(): torch.Size([30, 200, 1536])\nqkv.size(): torch.Size([30, 200, 8, 192])\nqkv.size(): torch.Size([30, 8, 200, 192])\nq.size(): torch.Size([30, 8, 200, 64]), k.size(): torch.Size([30, 8, 200, 64]), v.size(): torch.Size([30, 8, 200, 64])\nscaled.size() : torch.Size([30, 8, 200, 200])\n-- ADDING MASK of shape torch.Size([200, 200]) --\nvalues.size(): torch.Size([30, 8, 200, 64]), attention.size(): torch.Size([30, 8, 200, 200])\nvalues.size(): torch.Size([30, 200, 512])\nout.size(): torch.Size([30, 200, 512])\nDROP OUT 1\nAdd + Layer Normalization 1\nmean (torch.Size([30, 200, 1]))\nStandard Deviation (torch.Size([30, 200, 1]))\ny: torch.Size([30, 200, 512])\nself.gamma: torch.Size([512]), self.beta: torch.Size([512])\nout: torch.Size([30, 200, 512])\nCROSS ATTENTION\nx.size(): torch.Size([30, 200, 512])\nkv.size(): torch.Size([30, 200, 1024])\nq.size(): torch.Size([30, 200, 512])\nscaled.size() : torch.Size([30, 8, 200, 200])\nvalues: torch.Size([30, 8, 200, 64]), attention: torch.Size([30, 8, 200, 200])\nout after passing through linear layer: torch.Size([30, 200, 512])\nDROP OUT 2\nADD + LAYER NORMALIZATION 2\nmean (torch.Size([30, 200, 1]))\nStandard Deviation (torch.Size([30, 200, 1]))\ny: torch.Size([30, 200, 512])\nself.gamma: torch.Size([512]), self.beta: torch.Size([512])\nout: torch.Size([30, 200, 512])\nFEED FORWARD 1\nx after first linear layer : torch.Size([30, 200, 2048])\nx after activation: torch.Size([30, 200, 2048])\nx after dropout: torch.Size([30, 200, 2048])\nx after 2nd linear layer: torch.Size([30, 200, 512])\nDROP OUT 3\nADD + LAYER NORMALIZATION 3\nmean (torch.Size([30, 200, 1]))\nStandard Deviation (torch.Size([30, 200, 1]))\ny: torch.Size([30, 200, 512])\nself.gamma: torch.Size([512]), self.beta: torch.Size([512])\nout: torch.Size([30, 200, 512])\nmasked self attention\nx.size(): torch.Size([30, 200, 512])\nqkv.size(): torch.Size([30, 200, 1536])\nqkv.size(): torch.Size([30, 200, 8, 192])\nqkv.size(): torch.Size([30, 8, 200, 192])\nq.size(): torch.Size([30, 8, 200, 64]), k.size(): torch.Size([30, 8, 200, 64]), v.size(): torch.Size([30, 8, 200, 64])\nscaled.size() : torch.Size([30, 8, 200, 200])\n-- ADDING MASK of shape torch.Size([200, 200]) --\nvalues.size(): torch.Size([30, 8, 200, 64]), attention.size(): torch.Size([30, 8, 200, 200])\nvalues.size(): torch.Size([30, 200, 512])\nout.size(): torch.Size([30, 200, 512])\nDROP OUT 1\nAdd + Layer Normalization 1\nmean (torch.Size([30, 200, 1]))\nStandard Deviation (torch.Size([30, 200, 1]))\ny: torch.Size([30, 200, 512])\nself.gamma: torch.Size([512]), self.beta: torch.Size([512])\nout: torch.Size([30, 200, 512])\nCROSS ATTENTION\nx.size(): torch.Size([30, 200, 512])\nkv.size(): torch.Size([30, 200, 1024])\nq.size(): torch.Size([30, 200, 512])\nscaled.size() : torch.Size([30, 8, 200, 200])\nvalues: torch.Size([30, 8, 200, 64]), attention: torch.Size([30, 8, 200, 200])\nout after passing through linear layer: torch.Size([30, 200, 512])\nDROP OUT 2\nADD + LAYER NORMALIZATION 2\nmean (torch.Size([30, 200, 1]))\nStandard Deviation (torch.Size([30, 200, 1]))\ny: torch.Size([30, 200, 512])\nself.gamma: torch.Size([512]), self.beta: torch.Size([512])\nout: torch.Size([30, 200, 512])\nFEED FORWARD 1\nx after first linear layer : torch.Size([30, 200, 2048])\nx after activation: torch.Size([30, 200, 2048])\nx after dropout: torch.Size([30, 200, 2048])\nx after 2nd linear layer: torch.Size([30, 200, 512])\nDROP OUT 3\nADD + LAYER NORMALIZATION 3\nmean (torch.Size([30, 200, 1]))\nStandard Deviation (torch.Size([30, 200, 1]))\ny: torch.Size([30, 200, 512])\nself.gamma: torch.Size([512]), self.beta: torch.Size([512])\nout: torch.Size([30, 200, 512])\n",
          "output_type": "stream"
        }
      ],
      "execution_count": null
    },
    {
      "cell_type": "code",
      "source": [],
      "metadata": {
        "trusted": true,
        "id": "pDo0hVCGN99-"
      },
      "outputs": [],
      "execution_count": null
    }
  ]
}